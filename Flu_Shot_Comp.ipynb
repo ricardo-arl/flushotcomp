{
  "nbformat": 4,
  "nbformat_minor": 0,
  "metadata": {
    "colab": {
      "name": "Flu Shot Comp.ipynb",
      "provenance": [],
      "mount_file_id": "11BLMP6R1TMZN2vTYDih2DrfroIPqr5Tm",
      "authorship_tag": "ABX9TyO2kTM78iKrnG2+XT7YUwnE",
      "include_colab_link": true
    },
    "kernelspec": {
      "name": "python3",
      "display_name": "Python 3"
    }
  },
  "cells": [
    {
      "cell_type": "markdown",
      "metadata": {
        "id": "view-in-github",
        "colab_type": "text"
      },
      "source": [
        "<a href=\"https://colab.research.google.com/github/ricardo-arl/flushotcomp/blob/master/Flu_Shot_Comp.ipynb\" target=\"_parent\"><img src=\"https://colab.research.google.com/assets/colab-badge.svg\" alt=\"Open In Colab\"/></a>"
      ]
    },
    {
      "cell_type": "markdown",
      "metadata": {
        "id": "TsBjXyZNZimL",
        "colab_type": "text"
      },
      "source": [
        "Colab Notebook for Flu Shot Competition\n",
        "\n",
        "Source: https://www.drivendata.org/competitions/66/flu-shot-learning/page/210/"
      ]
    },
    {
      "cell_type": "code",
      "metadata": {
        "id": "ZGFMdvN_Cav6",
        "colab_type": "code",
        "colab": {
          "base_uri": "https://localhost:8080/",
          "height": 1000
        },
        "outputId": "af7160db-ad53-4225-a909-24a9891f8c48"
      },
      "source": [
        "pip install https://github.com/pandas-profiling/pandas-profiling/archive/master.zip"
      ],
      "execution_count": null,
      "outputs": [
        {
          "output_type": "stream",
          "text": [
            "Collecting https://github.com/pandas-profiling/pandas-profiling/archive/master.zip\n",
            "  Using cached https://github.com/pandas-profiling/pandas-profiling/archive/master.zip\n",
            "Requirement already satisfied (use --upgrade to upgrade): pandas-profiling==2.9.0rc1 from https://github.com/pandas-profiling/pandas-profiling/archive/master.zip in /usr/local/lib/python3.6/dist-packages\n",
            "Requirement already satisfied: joblib in /usr/local/lib/python3.6/dist-packages (from pandas-profiling==2.9.0rc1) (0.16.0)\n",
            "Requirement already satisfied: scipy>=1.4.1 in /usr/local/lib/python3.6/dist-packages (from pandas-profiling==2.9.0rc1) (1.4.1)\n",
            "Requirement already satisfied: pandas!=1.0.0,!=1.0.1,!=1.0.2,>=0.25.3 in /usr/local/lib/python3.6/dist-packages (from pandas-profiling==2.9.0rc1) (1.0.5)\n",
            "Requirement already satisfied: matplotlib>=3.2.0 in /usr/local/lib/python3.6/dist-packages (from pandas-profiling==2.9.0rc1) (3.2.2)\n",
            "Requirement already satisfied: confuse>=1.0.0 in /usr/local/lib/python3.6/dist-packages (from pandas-profiling==2.9.0rc1) (1.3.0)\n",
            "Requirement already satisfied: jinja2>=2.11.1 in /usr/local/lib/python3.6/dist-packages (from pandas-profiling==2.9.0rc1) (2.11.2)\n",
            "Requirement already satisfied: visions[type_image_path]==0.4.4 in /usr/local/lib/python3.6/dist-packages (from pandas-profiling==2.9.0rc1) (0.4.4)\n",
            "Requirement already satisfied: numpy>=1.16.0 in /usr/local/lib/python3.6/dist-packages (from pandas-profiling==2.9.0rc1) (1.18.5)\n",
            "Requirement already satisfied: attrs>=19.3.0 in /usr/local/lib/python3.6/dist-packages (from pandas-profiling==2.9.0rc1) (19.3.0)\n",
            "Requirement already satisfied: htmlmin>=0.1.12 in /usr/local/lib/python3.6/dist-packages (from pandas-profiling==2.9.0rc1) (0.1.12)\n",
            "Requirement already satisfied: missingno>=0.4.2 in /usr/local/lib/python3.6/dist-packages (from pandas-profiling==2.9.0rc1) (0.4.2)\n",
            "Requirement already satisfied: phik>=0.9.10 in /usr/local/lib/python3.6/dist-packages (from pandas-profiling==2.9.0rc1) (0.10.0)\n",
            "Requirement already satisfied: tangled-up-in-unicode>=0.0.6 in /usr/local/lib/python3.6/dist-packages (from pandas-profiling==2.9.0rc1) (0.0.6)\n",
            "Requirement already satisfied: requests>=2.23.0 in /usr/local/lib/python3.6/dist-packages (from pandas-profiling==2.9.0rc1) (2.23.0)\n",
            "Requirement already satisfied: tqdm>=4.43.0 in /usr/local/lib/python3.6/dist-packages (from pandas-profiling==2.9.0rc1) (4.48.2)\n",
            "Requirement already satisfied: ipywidgets>=7.5.1 in /usr/local/lib/python3.6/dist-packages (from pandas-profiling==2.9.0rc1) (7.5.1)\n",
            "Requirement already satisfied: seaborn>=0.10.1 in /usr/local/lib/python3.6/dist-packages (from pandas-profiling==2.9.0rc1) (0.10.1)\n",
            "Requirement already satisfied: python-dateutil>=2.6.1 in /usr/local/lib/python3.6/dist-packages (from pandas!=1.0.0,!=1.0.1,!=1.0.2,>=0.25.3->pandas-profiling==2.9.0rc1) (2.8.1)\n",
            "Requirement already satisfied: pytz>=2017.2 in /usr/local/lib/python3.6/dist-packages (from pandas!=1.0.0,!=1.0.1,!=1.0.2,>=0.25.3->pandas-profiling==2.9.0rc1) (2018.9)\n",
            "Requirement already satisfied: kiwisolver>=1.0.1 in /usr/local/lib/python3.6/dist-packages (from matplotlib>=3.2.0->pandas-profiling==2.9.0rc1) (1.2.0)\n",
            "Requirement already satisfied: cycler>=0.10 in /usr/local/lib/python3.6/dist-packages (from matplotlib>=3.2.0->pandas-profiling==2.9.0rc1) (0.10.0)\n",
            "Requirement already satisfied: pyparsing!=2.0.4,!=2.1.2,!=2.1.6,>=2.0.1 in /usr/local/lib/python3.6/dist-packages (from matplotlib>=3.2.0->pandas-profiling==2.9.0rc1) (2.4.7)\n",
            "Requirement already satisfied: pyyaml in /usr/local/lib/python3.6/dist-packages (from confuse>=1.0.0->pandas-profiling==2.9.0rc1) (3.13)\n",
            "Requirement already satisfied: MarkupSafe>=0.23 in /usr/local/lib/python3.6/dist-packages (from jinja2>=2.11.1->pandas-profiling==2.9.0rc1) (1.1.1)\n",
            "Requirement already satisfied: networkx>=2.4 in /usr/local/lib/python3.6/dist-packages (from visions[type_image_path]==0.4.4->pandas-profiling==2.9.0rc1) (2.4)\n",
            "Requirement already satisfied: imagehash; extra == \"type_image_path\" in /usr/local/lib/python3.6/dist-packages (from visions[type_image_path]==0.4.4->pandas-profiling==2.9.0rc1) (4.1.0)\n",
            "Requirement already satisfied: Pillow; extra == \"type_image_path\" in /usr/local/lib/python3.6/dist-packages (from visions[type_image_path]==0.4.4->pandas-profiling==2.9.0rc1) (7.0.0)\n",
            "Requirement already satisfied: numba>=0.38.1 in /usr/local/lib/python3.6/dist-packages (from phik>=0.9.10->pandas-profiling==2.9.0rc1) (0.48.0)\n",
            "Requirement already satisfied: chardet<4,>=3.0.2 in /usr/local/lib/python3.6/dist-packages (from requests>=2.23.0->pandas-profiling==2.9.0rc1) (3.0.4)\n",
            "Requirement already satisfied: certifi>=2017.4.17 in /usr/local/lib/python3.6/dist-packages (from requests>=2.23.0->pandas-profiling==2.9.0rc1) (2020.6.20)\n",
            "Requirement already satisfied: idna<3,>=2.5 in /usr/local/lib/python3.6/dist-packages (from requests>=2.23.0->pandas-profiling==2.9.0rc1) (2.10)\n",
            "Requirement already satisfied: urllib3!=1.25.0,!=1.25.1,<1.26,>=1.21.1 in /usr/local/lib/python3.6/dist-packages (from requests>=2.23.0->pandas-profiling==2.9.0rc1) (1.24.3)\n",
            "Requirement already satisfied: nbformat>=4.2.0 in /usr/local/lib/python3.6/dist-packages (from ipywidgets>=7.5.1->pandas-profiling==2.9.0rc1) (5.0.7)\n",
            "Requirement already satisfied: traitlets>=4.3.1 in /usr/local/lib/python3.6/dist-packages (from ipywidgets>=7.5.1->pandas-profiling==2.9.0rc1) (4.3.3)\n",
            "Requirement already satisfied: ipython>=4.0.0; python_version >= \"3.3\" in /usr/local/lib/python3.6/dist-packages (from ipywidgets>=7.5.1->pandas-profiling==2.9.0rc1) (5.5.0)\n",
            "Requirement already satisfied: ipykernel>=4.5.1 in /usr/local/lib/python3.6/dist-packages (from ipywidgets>=7.5.1->pandas-profiling==2.9.0rc1) (4.10.1)\n",
            "Requirement already satisfied: widgetsnbextension~=3.5.0 in /usr/local/lib/python3.6/dist-packages (from ipywidgets>=7.5.1->pandas-profiling==2.9.0rc1) (3.5.1)\n",
            "Requirement already satisfied: six>=1.5 in /usr/local/lib/python3.6/dist-packages (from python-dateutil>=2.6.1->pandas!=1.0.0,!=1.0.1,!=1.0.2,>=0.25.3->pandas-profiling==2.9.0rc1) (1.15.0)\n",
            "Requirement already satisfied: decorator>=4.3.0 in /usr/local/lib/python3.6/dist-packages (from networkx>=2.4->visions[type_image_path]==0.4.4->pandas-profiling==2.9.0rc1) (4.4.2)\n",
            "Requirement already satisfied: PyWavelets in /usr/local/lib/python3.6/dist-packages (from imagehash; extra == \"type_image_path\"->visions[type_image_path]==0.4.4->pandas-profiling==2.9.0rc1) (1.1.1)\n",
            "Requirement already satisfied: setuptools in /usr/local/lib/python3.6/dist-packages (from numba>=0.38.1->phik>=0.9.10->pandas-profiling==2.9.0rc1) (49.2.0)\n",
            "Requirement already satisfied: llvmlite<0.32.0,>=0.31.0dev0 in /usr/local/lib/python3.6/dist-packages (from numba>=0.38.1->phik>=0.9.10->pandas-profiling==2.9.0rc1) (0.31.0)\n",
            "Requirement already satisfied: ipython-genutils in /usr/local/lib/python3.6/dist-packages (from nbformat>=4.2.0->ipywidgets>=7.5.1->pandas-profiling==2.9.0rc1) (0.2.0)\n",
            "Requirement already satisfied: jupyter-core in /usr/local/lib/python3.6/dist-packages (from nbformat>=4.2.0->ipywidgets>=7.5.1->pandas-profiling==2.9.0rc1) (4.6.3)\n",
            "Requirement already satisfied: jsonschema!=2.5.0,>=2.4 in /usr/local/lib/python3.6/dist-packages (from nbformat>=4.2.0->ipywidgets>=7.5.1->pandas-profiling==2.9.0rc1) (2.6.0)\n",
            "Requirement already satisfied: pexpect; sys_platform != \"win32\" in /usr/local/lib/python3.6/dist-packages (from ipython>=4.0.0; python_version >= \"3.3\"->ipywidgets>=7.5.1->pandas-profiling==2.9.0rc1) (4.8.0)\n",
            "Requirement already satisfied: prompt-toolkit<2.0.0,>=1.0.4 in /usr/local/lib/python3.6/dist-packages (from ipython>=4.0.0; python_version >= \"3.3\"->ipywidgets>=7.5.1->pandas-profiling==2.9.0rc1) (1.0.18)\n",
            "Requirement already satisfied: pygments in /usr/local/lib/python3.6/dist-packages (from ipython>=4.0.0; python_version >= \"3.3\"->ipywidgets>=7.5.1->pandas-profiling==2.9.0rc1) (2.1.3)\n",
            "Requirement already satisfied: simplegeneric>0.8 in /usr/local/lib/python3.6/dist-packages (from ipython>=4.0.0; python_version >= \"3.3\"->ipywidgets>=7.5.1->pandas-profiling==2.9.0rc1) (0.8.1)\n",
            "Requirement already satisfied: pickleshare in /usr/local/lib/python3.6/dist-packages (from ipython>=4.0.0; python_version >= \"3.3\"->ipywidgets>=7.5.1->pandas-profiling==2.9.0rc1) (0.7.5)\n",
            "Requirement already satisfied: jupyter-client in /usr/local/lib/python3.6/dist-packages (from ipykernel>=4.5.1->ipywidgets>=7.5.1->pandas-profiling==2.9.0rc1) (5.3.5)\n",
            "Requirement already satisfied: tornado>=4.0 in /usr/local/lib/python3.6/dist-packages (from ipykernel>=4.5.1->ipywidgets>=7.5.1->pandas-profiling==2.9.0rc1) (5.1.1)\n",
            "Requirement already satisfied: notebook>=4.4.1 in /usr/local/lib/python3.6/dist-packages (from widgetsnbextension~=3.5.0->ipywidgets>=7.5.1->pandas-profiling==2.9.0rc1) (5.3.1)\n",
            "Requirement already satisfied: ptyprocess>=0.5 in /usr/local/lib/python3.6/dist-packages (from pexpect; sys_platform != \"win32\"->ipython>=4.0.0; python_version >= \"3.3\"->ipywidgets>=7.5.1->pandas-profiling==2.9.0rc1) (0.6.0)\n",
            "Requirement already satisfied: wcwidth in /usr/local/lib/python3.6/dist-packages (from prompt-toolkit<2.0.0,>=1.0.4->ipython>=4.0.0; python_version >= \"3.3\"->ipywidgets>=7.5.1->pandas-profiling==2.9.0rc1) (0.2.5)\n",
            "Requirement already satisfied: pyzmq>=13 in /usr/local/lib/python3.6/dist-packages (from jupyter-client->ipykernel>=4.5.1->ipywidgets>=7.5.1->pandas-profiling==2.9.0rc1) (19.0.2)\n",
            "Requirement already satisfied: nbconvert in /usr/local/lib/python3.6/dist-packages (from notebook>=4.4.1->widgetsnbextension~=3.5.0->ipywidgets>=7.5.1->pandas-profiling==2.9.0rc1) (5.6.1)\n",
            "Requirement already satisfied: terminado>=0.8.1 in /usr/local/lib/python3.6/dist-packages (from notebook>=4.4.1->widgetsnbextension~=3.5.0->ipywidgets>=7.5.1->pandas-profiling==2.9.0rc1) (0.8.3)\n",
            "Requirement already satisfied: Send2Trash in /usr/local/lib/python3.6/dist-packages (from notebook>=4.4.1->widgetsnbextension~=3.5.0->ipywidgets>=7.5.1->pandas-profiling==2.9.0rc1) (1.5.0)\n",
            "Requirement already satisfied: mistune<2,>=0.8.1 in /usr/local/lib/python3.6/dist-packages (from nbconvert->notebook>=4.4.1->widgetsnbextension~=3.5.0->ipywidgets>=7.5.1->pandas-profiling==2.9.0rc1) (0.8.4)\n",
            "Requirement already satisfied: bleach in /usr/local/lib/python3.6/dist-packages (from nbconvert->notebook>=4.4.1->widgetsnbextension~=3.5.0->ipywidgets>=7.5.1->pandas-profiling==2.9.0rc1) (3.1.5)\n",
            "Requirement already satisfied: entrypoints>=0.2.2 in /usr/local/lib/python3.6/dist-packages (from nbconvert->notebook>=4.4.1->widgetsnbextension~=3.5.0->ipywidgets>=7.5.1->pandas-profiling==2.9.0rc1) (0.3)\n",
            "Requirement already satisfied: pandocfilters>=1.4.1 in /usr/local/lib/python3.6/dist-packages (from nbconvert->notebook>=4.4.1->widgetsnbextension~=3.5.0->ipywidgets>=7.5.1->pandas-profiling==2.9.0rc1) (1.4.2)\n",
            "Requirement already satisfied: testpath in /usr/local/lib/python3.6/dist-packages (from nbconvert->notebook>=4.4.1->widgetsnbextension~=3.5.0->ipywidgets>=7.5.1->pandas-profiling==2.9.0rc1) (0.4.4)\n",
            "Requirement already satisfied: defusedxml in /usr/local/lib/python3.6/dist-packages (from nbconvert->notebook>=4.4.1->widgetsnbextension~=3.5.0->ipywidgets>=7.5.1->pandas-profiling==2.9.0rc1) (0.6.0)\n",
            "Requirement already satisfied: webencodings in /usr/local/lib/python3.6/dist-packages (from bleach->nbconvert->notebook>=4.4.1->widgetsnbextension~=3.5.0->ipywidgets>=7.5.1->pandas-profiling==2.9.0rc1) (0.5.1)\n",
            "Requirement already satisfied: packaging in /usr/local/lib/python3.6/dist-packages (from bleach->nbconvert->notebook>=4.4.1->widgetsnbextension~=3.5.0->ipywidgets>=7.5.1->pandas-profiling==2.9.0rc1) (20.4)\n",
            "Building wheels for collected packages: pandas-profiling\n",
            "  Building wheel for pandas-profiling (setup.py) ... \u001b[?25l\u001b[?25hdone\n",
            "  Created wheel for pandas-profiling: filename=pandas_profiling-2.9.0rc1-py2.py3-none-any.whl size=258106 sha256=aaaa6fe503e70d14b85977a3ddf77ff568a7362308c52ba24580a5824596482b\n",
            "  Stored in directory: /tmp/pip-ephem-wheel-cache-n8wpqhyy/wheels/56/c2/dd/8d945b0443c35df7d5f62fa9e9ae105a2d8b286302b92e0109\n",
            "Successfully built pandas-profiling\n"
          ],
          "name": "stdout"
        }
      ]
    },
    {
      "cell_type": "code",
      "metadata": {
        "id": "Zghcx9oxZgbT",
        "colab_type": "code",
        "colab": {}
      },
      "source": [
        "#Basic Imports\n",
        "import pandas as pd\n",
        "import numpy as np\n",
        "import matplotlib.pyplot as plt\n",
        "import seaborn as sns\n",
        "\n",
        "#EDA\n",
        "from pandas_profiling import ProfileReport\n",
        "\n",
        "#Processing\n",
        "from sklearn.preprocessing import OneHotEncoder\n",
        "from sklearn.impute import SimpleImputer\n",
        "from sklearn.preprocessing import OrdinalEncoder\n",
        "from sklearn.compose import make_column_transformer\n",
        "from sklearn.compose import ColumnTransformer\n",
        "from sklearn.pipeline import make_pipeline\n",
        "from sklearn.pipeline import Pipeline\n",
        "\n",
        "#Metrics\n",
        "from sklearn.model_selection import train_test_split\n",
        "from sklearn.metrics import classification_report,confusion_matrix,accuracy_score,roc_auc_score\n",
        "from sklearn.model_selection import cross_val_score\n",
        "\n",
        "#Modeling\n",
        "from sklearn.ensemble import RandomForestClassifier\n",
        "from xgboost import XGBClassifier\n",
        "import lightgbm as lgb\n",
        "from sklearn.model_selection import GridSearchCV"
      ],
      "execution_count": null,
      "outputs": []
    },
    {
      "cell_type": "code",
      "metadata": {
        "id": "8iWXI3yfZ__J",
        "colab_type": "code",
        "colab": {}
      },
      "source": [
        "data_features = pd.read_csv('/content/drive/My Drive/Flu Shot Comp/training_set_features.csv')"
      ],
      "execution_count": null,
      "outputs": []
    },
    {
      "cell_type": "code",
      "metadata": {
        "id": "2W0KcNO4aaph",
        "colab_type": "code",
        "colab": {}
      },
      "source": [
        "data_labels = pd.read_csv('/content/drive/My Drive/Flu Shot Comp/training_set_labels.csv')"
      ],
      "execution_count": null,
      "outputs": []
    },
    {
      "cell_type": "code",
      "metadata": {
        "id": "YxlqvEMsb0SW",
        "colab_type": "code",
        "colab": {}
      },
      "source": [
        "test_features = pd.read_csv('/content/drive/My Drive/Flu Shot Comp/test_set_features.csv')"
      ],
      "execution_count": null,
      "outputs": []
    },
    {
      "cell_type": "code",
      "metadata": {
        "id": "2LFrM9IQn1AK",
        "colab_type": "code",
        "colab": {
          "base_uri": "https://localhost:8080/",
          "height": 51
        },
        "outputId": "90a6ce21-72bd-4f80-c1f9-aef56fa2f135"
      },
      "source": [
        "print(data_features.shape)\n",
        "print(test_features.shape)"
      ],
      "execution_count": null,
      "outputs": [
        {
          "output_type": "stream",
          "text": [
            "(26707, 36)\n",
            "(26708, 36)\n"
          ],
          "name": "stdout"
        }
      ]
    },
    {
      "cell_type": "markdown",
      "metadata": {
        "id": "mJsJB3cicBq8",
        "colab_type": "text"
      },
      "source": [
        "Despues de importar la data, vamos a visualizar los dataframes"
      ]
    },
    {
      "cell_type": "code",
      "metadata": {
        "id": "K9jc9_OMcHqb",
        "colab_type": "code",
        "colab": {
          "base_uri": "https://localhost:8080/",
          "height": 377
        },
        "outputId": "ad14dfc1-62ac-4afa-d1f3-791fba7e59d6"
      },
      "source": [
        "data_features.head(5)"
      ],
      "execution_count": null,
      "outputs": [
        {
          "output_type": "execute_result",
          "data": {
            "text/html": [
              "<div>\n",
              "<style scoped>\n",
              "    .dataframe tbody tr th:only-of-type {\n",
              "        vertical-align: middle;\n",
              "    }\n",
              "\n",
              "    .dataframe tbody tr th {\n",
              "        vertical-align: top;\n",
              "    }\n",
              "\n",
              "    .dataframe thead th {\n",
              "        text-align: right;\n",
              "    }\n",
              "</style>\n",
              "<table border=\"1\" class=\"dataframe\">\n",
              "  <thead>\n",
              "    <tr style=\"text-align: right;\">\n",
              "      <th></th>\n",
              "      <th>respondent_id</th>\n",
              "      <th>h1n1_concern</th>\n",
              "      <th>h1n1_knowledge</th>\n",
              "      <th>behavioral_antiviral_meds</th>\n",
              "      <th>behavioral_avoidance</th>\n",
              "      <th>behavioral_face_mask</th>\n",
              "      <th>behavioral_wash_hands</th>\n",
              "      <th>behavioral_large_gatherings</th>\n",
              "      <th>behavioral_outside_home</th>\n",
              "      <th>behavioral_touch_face</th>\n",
              "      <th>doctor_recc_h1n1</th>\n",
              "      <th>doctor_recc_seasonal</th>\n",
              "      <th>chronic_med_condition</th>\n",
              "      <th>child_under_6_months</th>\n",
              "      <th>health_worker</th>\n",
              "      <th>health_insurance</th>\n",
              "      <th>opinion_h1n1_vacc_effective</th>\n",
              "      <th>opinion_h1n1_risk</th>\n",
              "      <th>opinion_h1n1_sick_from_vacc</th>\n",
              "      <th>opinion_seas_vacc_effective</th>\n",
              "      <th>opinion_seas_risk</th>\n",
              "      <th>opinion_seas_sick_from_vacc</th>\n",
              "      <th>age_group</th>\n",
              "      <th>education</th>\n",
              "      <th>race</th>\n",
              "      <th>sex</th>\n",
              "      <th>income_poverty</th>\n",
              "      <th>marital_status</th>\n",
              "      <th>rent_or_own</th>\n",
              "      <th>employment_status</th>\n",
              "      <th>hhs_geo_region</th>\n",
              "      <th>census_msa</th>\n",
              "      <th>household_adults</th>\n",
              "      <th>household_children</th>\n",
              "      <th>employment_industry</th>\n",
              "      <th>employment_occupation</th>\n",
              "    </tr>\n",
              "  </thead>\n",
              "  <tbody>\n",
              "    <tr>\n",
              "      <th>0</th>\n",
              "      <td>0</td>\n",
              "      <td>1.0</td>\n",
              "      <td>0.0</td>\n",
              "      <td>0.0</td>\n",
              "      <td>0.0</td>\n",
              "      <td>0.0</td>\n",
              "      <td>0.0</td>\n",
              "      <td>0.0</td>\n",
              "      <td>1.0</td>\n",
              "      <td>1.0</td>\n",
              "      <td>0.0</td>\n",
              "      <td>0.0</td>\n",
              "      <td>0.0</td>\n",
              "      <td>0.0</td>\n",
              "      <td>0.0</td>\n",
              "      <td>1.0</td>\n",
              "      <td>3.0</td>\n",
              "      <td>1.0</td>\n",
              "      <td>2.0</td>\n",
              "      <td>2.0</td>\n",
              "      <td>1.0</td>\n",
              "      <td>2.0</td>\n",
              "      <td>55 - 64 Years</td>\n",
              "      <td>&lt; 12 Years</td>\n",
              "      <td>White</td>\n",
              "      <td>Female</td>\n",
              "      <td>Below Poverty</td>\n",
              "      <td>Not Married</td>\n",
              "      <td>Own</td>\n",
              "      <td>Not in Labor Force</td>\n",
              "      <td>oxchjgsf</td>\n",
              "      <td>Non-MSA</td>\n",
              "      <td>0.0</td>\n",
              "      <td>0.0</td>\n",
              "      <td>NaN</td>\n",
              "      <td>NaN</td>\n",
              "    </tr>\n",
              "    <tr>\n",
              "      <th>1</th>\n",
              "      <td>1</td>\n",
              "      <td>3.0</td>\n",
              "      <td>2.0</td>\n",
              "      <td>0.0</td>\n",
              "      <td>1.0</td>\n",
              "      <td>0.0</td>\n",
              "      <td>1.0</td>\n",
              "      <td>0.0</td>\n",
              "      <td>1.0</td>\n",
              "      <td>1.0</td>\n",
              "      <td>0.0</td>\n",
              "      <td>0.0</td>\n",
              "      <td>0.0</td>\n",
              "      <td>0.0</td>\n",
              "      <td>0.0</td>\n",
              "      <td>1.0</td>\n",
              "      <td>5.0</td>\n",
              "      <td>4.0</td>\n",
              "      <td>4.0</td>\n",
              "      <td>4.0</td>\n",
              "      <td>2.0</td>\n",
              "      <td>4.0</td>\n",
              "      <td>35 - 44 Years</td>\n",
              "      <td>12 Years</td>\n",
              "      <td>White</td>\n",
              "      <td>Male</td>\n",
              "      <td>Below Poverty</td>\n",
              "      <td>Not Married</td>\n",
              "      <td>Rent</td>\n",
              "      <td>Employed</td>\n",
              "      <td>bhuqouqj</td>\n",
              "      <td>MSA, Not Principle  City</td>\n",
              "      <td>0.0</td>\n",
              "      <td>0.0</td>\n",
              "      <td>pxcmvdjn</td>\n",
              "      <td>xgwztkwe</td>\n",
              "    </tr>\n",
              "    <tr>\n",
              "      <th>2</th>\n",
              "      <td>2</td>\n",
              "      <td>1.0</td>\n",
              "      <td>1.0</td>\n",
              "      <td>0.0</td>\n",
              "      <td>1.0</td>\n",
              "      <td>0.0</td>\n",
              "      <td>0.0</td>\n",
              "      <td>0.0</td>\n",
              "      <td>0.0</td>\n",
              "      <td>0.0</td>\n",
              "      <td>NaN</td>\n",
              "      <td>NaN</td>\n",
              "      <td>1.0</td>\n",
              "      <td>0.0</td>\n",
              "      <td>0.0</td>\n",
              "      <td>NaN</td>\n",
              "      <td>3.0</td>\n",
              "      <td>1.0</td>\n",
              "      <td>1.0</td>\n",
              "      <td>4.0</td>\n",
              "      <td>1.0</td>\n",
              "      <td>2.0</td>\n",
              "      <td>18 - 34 Years</td>\n",
              "      <td>College Graduate</td>\n",
              "      <td>White</td>\n",
              "      <td>Male</td>\n",
              "      <td>&lt;= $75,000, Above Poverty</td>\n",
              "      <td>Not Married</td>\n",
              "      <td>Own</td>\n",
              "      <td>Employed</td>\n",
              "      <td>qufhixun</td>\n",
              "      <td>MSA, Not Principle  City</td>\n",
              "      <td>2.0</td>\n",
              "      <td>0.0</td>\n",
              "      <td>rucpziij</td>\n",
              "      <td>xtkaffoo</td>\n",
              "    </tr>\n",
              "    <tr>\n",
              "      <th>3</th>\n",
              "      <td>3</td>\n",
              "      <td>1.0</td>\n",
              "      <td>1.0</td>\n",
              "      <td>0.0</td>\n",
              "      <td>1.0</td>\n",
              "      <td>0.0</td>\n",
              "      <td>1.0</td>\n",
              "      <td>1.0</td>\n",
              "      <td>0.0</td>\n",
              "      <td>0.0</td>\n",
              "      <td>0.0</td>\n",
              "      <td>1.0</td>\n",
              "      <td>1.0</td>\n",
              "      <td>0.0</td>\n",
              "      <td>0.0</td>\n",
              "      <td>NaN</td>\n",
              "      <td>3.0</td>\n",
              "      <td>3.0</td>\n",
              "      <td>5.0</td>\n",
              "      <td>5.0</td>\n",
              "      <td>4.0</td>\n",
              "      <td>1.0</td>\n",
              "      <td>65+ Years</td>\n",
              "      <td>12 Years</td>\n",
              "      <td>White</td>\n",
              "      <td>Female</td>\n",
              "      <td>Below Poverty</td>\n",
              "      <td>Not Married</td>\n",
              "      <td>Rent</td>\n",
              "      <td>Not in Labor Force</td>\n",
              "      <td>lrircsnp</td>\n",
              "      <td>MSA, Principle City</td>\n",
              "      <td>0.0</td>\n",
              "      <td>0.0</td>\n",
              "      <td>NaN</td>\n",
              "      <td>NaN</td>\n",
              "    </tr>\n",
              "    <tr>\n",
              "      <th>4</th>\n",
              "      <td>4</td>\n",
              "      <td>2.0</td>\n",
              "      <td>1.0</td>\n",
              "      <td>0.0</td>\n",
              "      <td>1.0</td>\n",
              "      <td>0.0</td>\n",
              "      <td>1.0</td>\n",
              "      <td>1.0</td>\n",
              "      <td>0.0</td>\n",
              "      <td>1.0</td>\n",
              "      <td>0.0</td>\n",
              "      <td>0.0</td>\n",
              "      <td>0.0</td>\n",
              "      <td>0.0</td>\n",
              "      <td>0.0</td>\n",
              "      <td>NaN</td>\n",
              "      <td>3.0</td>\n",
              "      <td>3.0</td>\n",
              "      <td>2.0</td>\n",
              "      <td>3.0</td>\n",
              "      <td>1.0</td>\n",
              "      <td>4.0</td>\n",
              "      <td>45 - 54 Years</td>\n",
              "      <td>Some College</td>\n",
              "      <td>White</td>\n",
              "      <td>Female</td>\n",
              "      <td>&lt;= $75,000, Above Poverty</td>\n",
              "      <td>Married</td>\n",
              "      <td>Own</td>\n",
              "      <td>Employed</td>\n",
              "      <td>qufhixun</td>\n",
              "      <td>MSA, Not Principle  City</td>\n",
              "      <td>1.0</td>\n",
              "      <td>0.0</td>\n",
              "      <td>wxleyezf</td>\n",
              "      <td>emcorrxb</td>\n",
              "    </tr>\n",
              "  </tbody>\n",
              "</table>\n",
              "</div>"
            ],
            "text/plain": [
              "   respondent_id  h1n1_concern  ...  employment_industry  employment_occupation\n",
              "0              0           1.0  ...                  NaN                    NaN\n",
              "1              1           3.0  ...             pxcmvdjn               xgwztkwe\n",
              "2              2           1.0  ...             rucpziij               xtkaffoo\n",
              "3              3           1.0  ...                  NaN                    NaN\n",
              "4              4           2.0  ...             wxleyezf               emcorrxb\n",
              "\n",
              "[5 rows x 36 columns]"
            ]
          },
          "metadata": {
            "tags": []
          },
          "execution_count": 85
        }
      ]
    },
    {
      "cell_type": "markdown",
      "metadata": {
        "id": "QwSJ_1n2dgvF",
        "colab_type": "text"
      },
      "source": [
        "Definición de Variables según la página de la competencia:\n",
        "\n",
        "For all binary variables: 0 = No; 1 = Yes.\n",
        "\n",
        "h1n1_concern - Level of concern about the H1N1 flu.\n",
        "0 = Not at all concerned; 1 = Not very concerned; 2 = Somewhat concerned; 3 = Very concerned.\n",
        "\n",
        "h1n1_knowledge - Level of knowledge about H1N1 flu.\n",
        "0 = No knowledge; 1 = A little knowledge; 2 = A lot of knowledge.\n",
        "\n",
        "behavioral_antiviral_meds - Has taken antiviral medications. (binary)\n",
        "\n",
        "behavioral_avoidance - Has avoided close contact with others with flu-like symptoms. (binary)\n",
        "\n",
        "behavioral_face_mask - Has bought a face mask. (binary)\n",
        "\n",
        "behavioral_wash_hands - Has frequently washed hands or used hand sanitizer. (binary)\n",
        "\n",
        "behavioral_large_gatherings - Has reduced time at large gatherings. (binary)\n",
        "\n",
        "behavioral_outside_home - Has reduced contact with people outside of own household. (binary)\n",
        "\n",
        "behavioral_touch_face - Has avoided touching eyes, nose, or mouth. (binary)\n",
        "\n",
        "doctor_recc_h1n1 - H1N1 flu vaccine was recommended by doctor. (binary)\n",
        "\n",
        "doctor_recc_seasonal - Seasonal flu vaccine was recommended by doctor. (binary)\n",
        "\n",
        "chronic_med_condition - Has any of the following chronic medical conditions: asthma or an other lung condition, diabetes, a heart condition, a kidney condition, sickle cell anemia or other anemia, a neurological or neuromuscular condition, a liver condition, or a weakened immune system caused by a chronic illness or by medicines taken for a chronic illness. (binary)\n",
        "\n",
        "child_under_6_months - Has regular close contact with a child under the age of six months. (binary)\n",
        "\n",
        "health_worker - Is a healthcare worker. (binary)\n",
        "\n",
        "health_insurance - Has health insurance. (binary)\n",
        "\n",
        "opinion_h1n1_vacc_effective - Respondent's opinion about H1N1 vaccine effectiveness.\n",
        "1 = Not at all effective; 2 = Not very effective; 3 = Don't know; 4 = Somewhat effective; 5 = Very effective.\n",
        "\n",
        "opinion_h1n1_risk - Respondent's opinion about risk of getting sick with H1N1 flu without vaccine.\n",
        "1 = Very Low; 2 = Somewhat low; 3 = Don't know; 4 = Somewhat high; 5 = Very high.\n",
        "\n",
        "opinion_h1n1_sick_from_vacc - Respondent's worry of getting sick from taking H1N1 vaccine.\n",
        "1 = Not at all worried; 2 = Not very worried; 3 = Don't know; 4 = Somewhat worried; 5 = Very worried.\n",
        "\n",
        "opinion_seas_vacc_effective - Respondent's opinion about seasonal flu vaccine effectiveness.\n",
        "1 = Not at all effective; 2 = Not very effective; 3 = Don't know; 4 = Somewhat effective; 5 = Very effective.\n",
        "\n",
        "opinion_seas_risk - Respondent's opinion about risk of getting sick with seasonal flu without vaccine.\n",
        "1 = Very Low; 2 = Somewhat low; 3 = Don't know; 4 = Somewhat high; 5 = Very high.\n",
        "\n",
        "opinion_seas_sick_from_vacc - Respondent's worry of getting sick from taking seasonal flu vaccine.\n",
        "1 = Not at all worried; 2 = Not very worried; 3 = Don't know; 4 = Somewhat worried; 5 = Very worried.\n",
        "\n",
        "age_group - Age group of respondent.\n",
        "\n",
        "education - Self-reported education level.\n",
        "\n",
        "race - Race of respondent.\n",
        "\n",
        "sex - Sex of respondent.\n",
        "\n",
        "income_poverty - Household annual income of respondent with respect to 2008 Census poverty thresholds.\n",
        "\n",
        "marital_status - Marital status of respondent.\n",
        "\n",
        "rent_or_own - Housing situation of respondent.\n",
        "\n",
        "employment_status - Employment status of respondent.\n",
        "\n",
        "hhs_geo_region - Respondent's residence using a 10-region geographic classification defined by the U.S. Dept. of Health and Human Services. Values are represented as short random character strings.\n",
        "\n",
        "census_msa - Respondent's residence within metropolitan statistical areas (MSA) as defined by the U.S. Census.\n",
        "\n",
        "household_adults - Number of other adults in household, top-coded to 3.\n",
        "\n",
        "household_children - Number of children in household, top-coded to 3.\n",
        "\n",
        "employment_industry - Type of industry respondent is employed in. Values are represented as short random character strings.\n",
        "\n",
        "employment_occupation - Type of occupation of respondent. Values are represented as short random character strings."
      ]
    },
    {
      "cell_type": "markdown",
      "metadata": {
        "id": "ck-Bo6WNctHK",
        "colab_type": "text"
      },
      "source": [
        "Usualmente, si es un dataframe pequeño, trato de usar la libreria de Pandas Profile Report para explorar un poco el dataset. Pero siento que a veces nos volvemos dependientes de las herramientas y quiero dedicarle mas tiempo a la interpretacion de los datos y relación de variables."
      ]
    },
    {
      "cell_type": "code",
      "metadata": {
        "id": "4H0IdKdjD0J_",
        "colab_type": "code",
        "colab": {
          "base_uri": "https://localhost:8080/",
          "height": 419
        },
        "outputId": "62628a3e-0ec4-4f01-c1b9-1f4088abbb9b"
      },
      "source": [
        "data_labels"
      ],
      "execution_count": null,
      "outputs": [
        {
          "output_type": "execute_result",
          "data": {
            "text/html": [
              "<div>\n",
              "<style scoped>\n",
              "    .dataframe tbody tr th:only-of-type {\n",
              "        vertical-align: middle;\n",
              "    }\n",
              "\n",
              "    .dataframe tbody tr th {\n",
              "        vertical-align: top;\n",
              "    }\n",
              "\n",
              "    .dataframe thead th {\n",
              "        text-align: right;\n",
              "    }\n",
              "</style>\n",
              "<table border=\"1\" class=\"dataframe\">\n",
              "  <thead>\n",
              "    <tr style=\"text-align: right;\">\n",
              "      <th></th>\n",
              "      <th>respondent_id</th>\n",
              "      <th>h1n1_vaccine</th>\n",
              "      <th>seasonal_vaccine</th>\n",
              "    </tr>\n",
              "  </thead>\n",
              "  <tbody>\n",
              "    <tr>\n",
              "      <th>0</th>\n",
              "      <td>0</td>\n",
              "      <td>0</td>\n",
              "      <td>0</td>\n",
              "    </tr>\n",
              "    <tr>\n",
              "      <th>1</th>\n",
              "      <td>1</td>\n",
              "      <td>0</td>\n",
              "      <td>1</td>\n",
              "    </tr>\n",
              "    <tr>\n",
              "      <th>2</th>\n",
              "      <td>2</td>\n",
              "      <td>0</td>\n",
              "      <td>0</td>\n",
              "    </tr>\n",
              "    <tr>\n",
              "      <th>3</th>\n",
              "      <td>3</td>\n",
              "      <td>0</td>\n",
              "      <td>1</td>\n",
              "    </tr>\n",
              "    <tr>\n",
              "      <th>4</th>\n",
              "      <td>4</td>\n",
              "      <td>0</td>\n",
              "      <td>0</td>\n",
              "    </tr>\n",
              "    <tr>\n",
              "      <th>...</th>\n",
              "      <td>...</td>\n",
              "      <td>...</td>\n",
              "      <td>...</td>\n",
              "    </tr>\n",
              "    <tr>\n",
              "      <th>26702</th>\n",
              "      <td>26702</td>\n",
              "      <td>0</td>\n",
              "      <td>0</td>\n",
              "    </tr>\n",
              "    <tr>\n",
              "      <th>26703</th>\n",
              "      <td>26703</td>\n",
              "      <td>0</td>\n",
              "      <td>0</td>\n",
              "    </tr>\n",
              "    <tr>\n",
              "      <th>26704</th>\n",
              "      <td>26704</td>\n",
              "      <td>0</td>\n",
              "      <td>1</td>\n",
              "    </tr>\n",
              "    <tr>\n",
              "      <th>26705</th>\n",
              "      <td>26705</td>\n",
              "      <td>0</td>\n",
              "      <td>0</td>\n",
              "    </tr>\n",
              "    <tr>\n",
              "      <th>26706</th>\n",
              "      <td>26706</td>\n",
              "      <td>0</td>\n",
              "      <td>0</td>\n",
              "    </tr>\n",
              "  </tbody>\n",
              "</table>\n",
              "<p>26707 rows × 3 columns</p>\n",
              "</div>"
            ],
            "text/plain": [
              "       respondent_id  h1n1_vaccine  seasonal_vaccine\n",
              "0                  0             0                 0\n",
              "1                  1             0                 1\n",
              "2                  2             0                 0\n",
              "3                  3             0                 1\n",
              "4                  4             0                 0\n",
              "...              ...           ...               ...\n",
              "26702          26702             0                 0\n",
              "26703          26703             0                 0\n",
              "26704          26704             0                 1\n",
              "26705          26705             0                 0\n",
              "26706          26706             0                 0\n",
              "\n",
              "[26707 rows x 3 columns]"
            ]
          },
          "metadata": {
            "tags": []
          },
          "execution_count": 86
        }
      ]
    },
    {
      "cell_type": "code",
      "metadata": {
        "id": "cEeXMFwmDrlf",
        "colab_type": "code",
        "colab": {}
      },
      "source": [
        "df = data_features.merge(data_labels,how='inner',on='respondent_id')"
      ],
      "execution_count": null,
      "outputs": []
    },
    {
      "cell_type": "code",
      "metadata": {
        "id": "MbPvNifzfrkn",
        "colab_type": "code",
        "colab": {
          "base_uri": "https://localhost:8080/",
          "height": 1000
        },
        "outputId": "36fe1483-1fe3-45ff-a6bc-ff20a95a951e"
      },
      "source": [
        "percent_missing = (df.isnull().sum() / len(df))*100\n",
        "missing_value_df = pd.DataFrame({'percent_missing': percent_missing})\n",
        "missing_value_df"
      ],
      "execution_count": null,
      "outputs": [
        {
          "output_type": "execute_result",
          "data": {
            "text/html": [
              "<div>\n",
              "<style scoped>\n",
              "    .dataframe tbody tr th:only-of-type {\n",
              "        vertical-align: middle;\n",
              "    }\n",
              "\n",
              "    .dataframe tbody tr th {\n",
              "        vertical-align: top;\n",
              "    }\n",
              "\n",
              "    .dataframe thead th {\n",
              "        text-align: right;\n",
              "    }\n",
              "</style>\n",
              "<table border=\"1\" class=\"dataframe\">\n",
              "  <thead>\n",
              "    <tr style=\"text-align: right;\">\n",
              "      <th></th>\n",
              "      <th>percent_missing</th>\n",
              "    </tr>\n",
              "  </thead>\n",
              "  <tbody>\n",
              "    <tr>\n",
              "      <th>respondent_id</th>\n",
              "      <td>0.000000</td>\n",
              "    </tr>\n",
              "    <tr>\n",
              "      <th>h1n1_concern</th>\n",
              "      <td>0.344479</td>\n",
              "    </tr>\n",
              "    <tr>\n",
              "      <th>h1n1_knowledge</th>\n",
              "      <td>0.434343</td>\n",
              "    </tr>\n",
              "    <tr>\n",
              "      <th>behavioral_antiviral_meds</th>\n",
              "      <td>0.265848</td>\n",
              "    </tr>\n",
              "    <tr>\n",
              "      <th>behavioral_avoidance</th>\n",
              "      <td>0.778822</td>\n",
              "    </tr>\n",
              "    <tr>\n",
              "      <th>behavioral_face_mask</th>\n",
              "      <td>0.071142</td>\n",
              "    </tr>\n",
              "    <tr>\n",
              "      <th>behavioral_wash_hands</th>\n",
              "      <td>0.157262</td>\n",
              "    </tr>\n",
              "    <tr>\n",
              "      <th>behavioral_large_gatherings</th>\n",
              "      <td>0.325757</td>\n",
              "    </tr>\n",
              "    <tr>\n",
              "      <th>behavioral_outside_home</th>\n",
              "      <td>0.307036</td>\n",
              "    </tr>\n",
              "    <tr>\n",
              "      <th>behavioral_touch_face</th>\n",
              "      <td>0.479275</td>\n",
              "    </tr>\n",
              "    <tr>\n",
              "      <th>doctor_recc_h1n1</th>\n",
              "      <td>8.087767</td>\n",
              "    </tr>\n",
              "    <tr>\n",
              "      <th>doctor_recc_seasonal</th>\n",
              "      <td>8.087767</td>\n",
              "    </tr>\n",
              "    <tr>\n",
              "      <th>chronic_med_condition</th>\n",
              "      <td>3.635751</td>\n",
              "    </tr>\n",
              "    <tr>\n",
              "      <th>child_under_6_months</th>\n",
              "      <td>3.070356</td>\n",
              "    </tr>\n",
              "    <tr>\n",
              "      <th>health_worker</th>\n",
              "      <td>3.010447</td>\n",
              "    </tr>\n",
              "    <tr>\n",
              "      <th>health_insurance</th>\n",
              "      <td>45.957989</td>\n",
              "    </tr>\n",
              "    <tr>\n",
              "      <th>opinion_h1n1_vacc_effective</th>\n",
              "      <td>1.464036</td>\n",
              "    </tr>\n",
              "    <tr>\n",
              "      <th>opinion_h1n1_risk</th>\n",
              "      <td>1.452803</td>\n",
              "    </tr>\n",
              "    <tr>\n",
              "      <th>opinion_h1n1_sick_from_vacc</th>\n",
              "      <td>1.479013</td>\n",
              "    </tr>\n",
              "    <tr>\n",
              "      <th>opinion_seas_vacc_effective</th>\n",
              "      <td>1.729884</td>\n",
              "    </tr>\n",
              "    <tr>\n",
              "      <th>opinion_seas_risk</th>\n",
              "      <td>1.924589</td>\n",
              "    </tr>\n",
              "    <tr>\n",
              "      <th>opinion_seas_sick_from_vacc</th>\n",
              "      <td>2.010709</td>\n",
              "    </tr>\n",
              "    <tr>\n",
              "      <th>age_group</th>\n",
              "      <td>0.000000</td>\n",
              "    </tr>\n",
              "    <tr>\n",
              "      <th>education</th>\n",
              "      <td>5.268282</td>\n",
              "    </tr>\n",
              "    <tr>\n",
              "      <th>race</th>\n",
              "      <td>0.000000</td>\n",
              "    </tr>\n",
              "    <tr>\n",
              "      <th>sex</th>\n",
              "      <td>0.000000</td>\n",
              "    </tr>\n",
              "    <tr>\n",
              "      <th>income_poverty</th>\n",
              "      <td>16.561201</td>\n",
              "    </tr>\n",
              "    <tr>\n",
              "      <th>marital_status</th>\n",
              "      <td>5.272026</td>\n",
              "    </tr>\n",
              "    <tr>\n",
              "      <th>rent_or_own</th>\n",
              "      <td>7.645936</td>\n",
              "    </tr>\n",
              "    <tr>\n",
              "      <th>employment_status</th>\n",
              "      <td>5.477965</td>\n",
              "    </tr>\n",
              "    <tr>\n",
              "      <th>hhs_geo_region</th>\n",
              "      <td>0.000000</td>\n",
              "    </tr>\n",
              "    <tr>\n",
              "      <th>census_msa</th>\n",
              "      <td>0.000000</td>\n",
              "    </tr>\n",
              "    <tr>\n",
              "      <th>household_adults</th>\n",
              "      <td>0.932340</td>\n",
              "    </tr>\n",
              "    <tr>\n",
              "      <th>household_children</th>\n",
              "      <td>0.932340</td>\n",
              "    </tr>\n",
              "    <tr>\n",
              "      <th>employment_industry</th>\n",
              "      <td>49.912008</td>\n",
              "    </tr>\n",
              "    <tr>\n",
              "      <th>employment_occupation</th>\n",
              "      <td>50.436215</td>\n",
              "    </tr>\n",
              "    <tr>\n",
              "      <th>h1n1_vaccine</th>\n",
              "      <td>0.000000</td>\n",
              "    </tr>\n",
              "    <tr>\n",
              "      <th>seasonal_vaccine</th>\n",
              "      <td>0.000000</td>\n",
              "    </tr>\n",
              "  </tbody>\n",
              "</table>\n",
              "</div>"
            ],
            "text/plain": [
              "                             percent_missing\n",
              "respondent_id                       0.000000\n",
              "h1n1_concern                        0.344479\n",
              "h1n1_knowledge                      0.434343\n",
              "behavioral_antiviral_meds           0.265848\n",
              "behavioral_avoidance                0.778822\n",
              "behavioral_face_mask                0.071142\n",
              "behavioral_wash_hands               0.157262\n",
              "behavioral_large_gatherings         0.325757\n",
              "behavioral_outside_home             0.307036\n",
              "behavioral_touch_face               0.479275\n",
              "doctor_recc_h1n1                    8.087767\n",
              "doctor_recc_seasonal                8.087767\n",
              "chronic_med_condition               3.635751\n",
              "child_under_6_months                3.070356\n",
              "health_worker                       3.010447\n",
              "health_insurance                   45.957989\n",
              "opinion_h1n1_vacc_effective         1.464036\n",
              "opinion_h1n1_risk                   1.452803\n",
              "opinion_h1n1_sick_from_vacc         1.479013\n",
              "opinion_seas_vacc_effective         1.729884\n",
              "opinion_seas_risk                   1.924589\n",
              "opinion_seas_sick_from_vacc         2.010709\n",
              "age_group                           0.000000\n",
              "education                           5.268282\n",
              "race                                0.000000\n",
              "sex                                 0.000000\n",
              "income_poverty                     16.561201\n",
              "marital_status                      5.272026\n",
              "rent_or_own                         7.645936\n",
              "employment_status                   5.477965\n",
              "hhs_geo_region                      0.000000\n",
              "census_msa                          0.000000\n",
              "household_adults                    0.932340\n",
              "household_children                  0.932340\n",
              "employment_industry                49.912008\n",
              "employment_occupation              50.436215\n",
              "h1n1_vaccine                        0.000000\n",
              "seasonal_vaccine                    0.000000"
            ]
          },
          "metadata": {
            "tags": []
          },
          "execution_count": 88
        }
      ]
    },
    {
      "cell_type": "code",
      "metadata": {
        "colab_type": "code",
        "id": "Ih580ehknYrW",
        "colab": {
          "base_uri": "https://localhost:8080/",
          "height": 34
        },
        "outputId": "01c00b41-8aa1-49c8-df12-5f86d3f62bb1"
      },
      "source": [
        "missing_value_df.shape"
      ],
      "execution_count": null,
      "outputs": [
        {
          "output_type": "execute_result",
          "data": {
            "text/plain": [
              "(38, 1)"
            ]
          },
          "metadata": {
            "tags": []
          },
          "execution_count": 89
        }
      ]
    },
    {
      "cell_type": "code",
      "metadata": {
        "id": "2AypFNMrCFSJ",
        "colab_type": "code",
        "colab": {}
      },
      "source": [
        "profile = ProfileReport(df, title=\"Pandas Profiling Report\")"
      ],
      "execution_count": null,
      "outputs": []
    },
    {
      "cell_type": "code",
      "metadata": {
        "id": "p3Z7n1YrCwOG",
        "colab_type": "code",
        "colab": {}
      },
      "source": [
        "profile"
      ],
      "execution_count": null,
      "outputs": []
    },
    {
      "cell_type": "markdown",
      "metadata": {
        "id": "3ZvI39axF9AR",
        "colab_type": "text"
      },
      "source": [
        "Despues de tener una idea general del dataset, vamos a imputar los valores nulos y eliminar las columnas con mas de un 20% de nulos. Quizas podria servir imputarlas como no data para tratar de mantener la mayor cantidad de información en columnas que pueden ser de utilidad. "
      ]
    },
    {
      "cell_type": "code",
      "metadata": {
        "id": "i-NLPc8AHKZH",
        "colab_type": "code",
        "colab": {
          "base_uri": "https://localhost:8080/",
          "height": 782
        },
        "outputId": "61ce7d7d-827c-4ccd-ce9c-23a8c4a5cc09"
      },
      "source": [
        "df.info()"
      ],
      "execution_count": null,
      "outputs": [
        {
          "output_type": "stream",
          "text": [
            "<class 'pandas.core.frame.DataFrame'>\n",
            "Int64Index: 26707 entries, 0 to 26706\n",
            "Data columns (total 38 columns):\n",
            " #   Column                       Non-Null Count  Dtype  \n",
            "---  ------                       --------------  -----  \n",
            " 0   respondent_id                26707 non-null  int64  \n",
            " 1   h1n1_concern                 26615 non-null  float64\n",
            " 2   h1n1_knowledge               26591 non-null  float64\n",
            " 3   behavioral_antiviral_meds    26636 non-null  float64\n",
            " 4   behavioral_avoidance         26499 non-null  float64\n",
            " 5   behavioral_face_mask         26688 non-null  float64\n",
            " 6   behavioral_wash_hands        26665 non-null  float64\n",
            " 7   behavioral_large_gatherings  26620 non-null  float64\n",
            " 8   behavioral_outside_home      26625 non-null  float64\n",
            " 9   behavioral_touch_face        26579 non-null  float64\n",
            " 10  doctor_recc_h1n1             24547 non-null  float64\n",
            " 11  doctor_recc_seasonal         24547 non-null  float64\n",
            " 12  chronic_med_condition        25736 non-null  float64\n",
            " 13  child_under_6_months         25887 non-null  float64\n",
            " 14  health_worker                25903 non-null  float64\n",
            " 15  health_insurance             14433 non-null  float64\n",
            " 16  opinion_h1n1_vacc_effective  26316 non-null  float64\n",
            " 17  opinion_h1n1_risk            26319 non-null  float64\n",
            " 18  opinion_h1n1_sick_from_vacc  26312 non-null  float64\n",
            " 19  opinion_seas_vacc_effective  26245 non-null  float64\n",
            " 20  opinion_seas_risk            26193 non-null  float64\n",
            " 21  opinion_seas_sick_from_vacc  26170 non-null  float64\n",
            " 22  age_group                    26707 non-null  object \n",
            " 23  education                    25300 non-null  object \n",
            " 24  race                         26707 non-null  object \n",
            " 25  sex                          26707 non-null  object \n",
            " 26  income_poverty               22284 non-null  object \n",
            " 27  marital_status               25299 non-null  object \n",
            " 28  rent_or_own                  24665 non-null  object \n",
            " 29  employment_status            25244 non-null  object \n",
            " 30  hhs_geo_region               26707 non-null  object \n",
            " 31  census_msa                   26707 non-null  object \n",
            " 32  household_adults             26458 non-null  float64\n",
            " 33  household_children           26458 non-null  float64\n",
            " 34  employment_industry          13377 non-null  object \n",
            " 35  employment_occupation        13237 non-null  object \n",
            " 36  h1n1_vaccine                 26707 non-null  int64  \n",
            " 37  seasonal_vaccine             26707 non-null  int64  \n",
            "dtypes: float64(23), int64(3), object(12)\n",
            "memory usage: 7.9+ MB\n"
          ],
          "name": "stdout"
        }
      ]
    },
    {
      "cell_type": "code",
      "metadata": {
        "id": "PnKij-sqNzgX",
        "colab_type": "code",
        "colab": {
          "base_uri": "https://localhost:8080/",
          "height": 255
        },
        "outputId": "efa4e3a3-131c-441e-dd37-bf737cfe4997"
      },
      "source": [
        "df.columns"
      ],
      "execution_count": null,
      "outputs": [
        {
          "output_type": "execute_result",
          "data": {
            "text/plain": [
              "Index(['respondent_id', 'h1n1_concern', 'h1n1_knowledge',\n",
              "       'behavioral_antiviral_meds', 'behavioral_avoidance',\n",
              "       'behavioral_face_mask', 'behavioral_wash_hands',\n",
              "       'behavioral_large_gatherings', 'behavioral_outside_home',\n",
              "       'behavioral_touch_face', 'doctor_recc_h1n1', 'doctor_recc_seasonal',\n",
              "       'chronic_med_condition', 'child_under_6_months', 'health_worker',\n",
              "       'health_insurance', 'opinion_h1n1_vacc_effective', 'opinion_h1n1_risk',\n",
              "       'opinion_h1n1_sick_from_vacc', 'opinion_seas_vacc_effective',\n",
              "       'opinion_seas_risk', 'opinion_seas_sick_from_vacc', 'age_group',\n",
              "       'education', 'race', 'sex', 'income_poverty', 'marital_status',\n",
              "       'rent_or_own', 'employment_status', 'hhs_geo_region', 'census_msa',\n",
              "       'household_adults', 'household_children', 'employment_industry',\n",
              "       'employment_occupation', 'h1n1_vaccine', 'seasonal_vaccine'],\n",
              "      dtype='object')"
            ]
          },
          "metadata": {
            "tags": []
          },
          "execution_count": 93
        }
      ]
    },
    {
      "cell_type": "code",
      "metadata": {
        "id": "3_czo53jXgn2",
        "colab_type": "code",
        "colab": {}
      },
      "source": [
        "y1 = df['h1n1_vaccine']\n",
        "y2 = df['seasonal_vaccine']"
      ],
      "execution_count": null,
      "outputs": []
    },
    {
      "cell_type": "code",
      "metadata": {
        "id": "vyCIJXe7UOEm",
        "colab_type": "code",
        "colab": {}
      },
      "source": [
        "df = df.drop(['respondent_id','employment_industry','employment_occupation','health_insurance','h1n1_vaccine','seasonal_vaccine'], axis = 1)"
      ],
      "execution_count": null,
      "outputs": []
    },
    {
      "cell_type": "code",
      "metadata": {
        "id": "6_vWhM6dGX-N",
        "colab_type": "code",
        "colab": {}
      },
      "source": [
        "cat_col = df.select_dtypes(include=['object']).columns\n",
        "bool_col = ['behavioral_antiviral_meds', 'behavioral_avoidance',\n",
        "       'behavioral_face_mask', 'behavioral_wash_hands',\n",
        "       'behavioral_large_gatherings', 'behavioral_outside_home',\n",
        "       'behavioral_touch_face', 'doctor_recc_h1n1', 'doctor_recc_seasonal',\n",
        "       'chronic_med_condition', 'child_under_6_months', 'health_worker']\n",
        "ord_col = ['opinion_h1n1_vacc_effective', 'opinion_h1n1_risk',\n",
        "       'opinion_h1n1_sick_from_vacc', 'opinion_seas_vacc_effective',\n",
        "       'opinion_seas_risk', 'opinion_seas_sick_from_vacc','household_adults',\n",
        "       'household_children']"
      ],
      "execution_count": null,
      "outputs": []
    },
    {
      "cell_type": "code",
      "metadata": {
        "id": "aOGO88M2UjqH",
        "colab_type": "code",
        "colab": {}
      },
      "source": [
        "cat = SimpleImputer(missing_values=np.nan, strategy='most_frequent')\n",
        "ohe = OneHotEncoder(sparse = False, handle_unknown='ignore')\n",
        "ord = OrdinalEncoder()"
      ],
      "execution_count": null,
      "outputs": []
    },
    {
      "cell_type": "code",
      "metadata": {
        "id": "hnbp7IbzVVXg",
        "colab_type": "code",
        "colab": {}
      },
      "source": [
        "categorical_transformer = Pipeline(steps=[('imputer', cat),\n",
        "                                          ('onehot', ohe)])\n",
        "\n",
        "boolean_transformer = Pipeline(steps=[('imputer', cat),\n",
        "                                      ('onehot', ohe)])\n",
        "\n",
        "ordinal_transformer = Pipeline(steps=[('imputer', cat),\n",
        "                                      ('ordinal', ord)])\n",
        "\n",
        "preprocessor = ColumnTransformer(transformers=[('categorical', categorical_transformer, cat_col),\n",
        "                                               ('boolean', boolean_transformer, bool_col),\n",
        "                                               ('ordinal', ordinal_transformer, ord_col)])"
      ],
      "execution_count": null,
      "outputs": []
    },
    {
      "cell_type": "code",
      "metadata": {
        "id": "wQcnwQT_XOzY",
        "colab_type": "code",
        "colab": {}
      },
      "source": [
        "X_train, X_test, y_train, y_test = train_test_split(df, y1, test_size=0.3)\n",
        "X_train2, X_test2, y_train2, y_test2 = train_test_split(df, y2, test_size=0.3)"
      ],
      "execution_count": null,
      "outputs": []
    },
    {
      "cell_type": "markdown",
      "metadata": {
        "id": "GPkemlmOZuIS",
        "colab_type": "text"
      },
      "source": [
        "Modeling Basics"
      ]
    },
    {
      "cell_type": "code",
      "metadata": {
        "id": "kwShdiLnYwhQ",
        "colab_type": "code",
        "colab": {}
      },
      "source": [
        "rf = RandomForestClassifier()\n",
        "lg = lgb.LGBMClassifier()\n",
        "xg = XGBClassifier()"
      ],
      "execution_count": null,
      "outputs": []
    },
    {
      "cell_type": "code",
      "metadata": {
        "id": "c-msVoifaMJP",
        "colab_type": "code",
        "colab": {}
      },
      "source": [
        "pipe_rf = make_pipeline(preprocessor, rf)\n",
        "pipe_lg = make_pipeline(preprocessor, lg)\n",
        "pipe_xg = make_pipeline(preprocessor, xg)"
      ],
      "execution_count": null,
      "outputs": []
    },
    {
      "cell_type": "markdown",
      "metadata": {
        "id": "J3yfWYGmaVZR",
        "colab_type": "text"
      },
      "source": [
        "Random Forest"
      ]
    },
    {
      "cell_type": "code",
      "metadata": {
        "id": "rOvAUrs3aQBG",
        "colab_type": "code",
        "colab": {
          "base_uri": "https://localhost:8080/",
          "height": 34
        },
        "outputId": "c6a744ea-d297-4501-f4de-b6dea8960927"
      },
      "source": [
        "rf_model = pipe_rf.fit(X_train,y_train)\n",
        "rf_pred = rf_model.predict_proba(X_test)\n",
        "rf_score = roc_auc_score(y_test,rf_pred[:, 1])\n",
        "rf_score"
      ],
      "execution_count": null,
      "outputs": [
        {
          "output_type": "execute_result",
          "data": {
            "text/plain": [
              "0.8240508815166582"
            ]
          },
          "metadata": {
            "tags": []
          },
          "execution_count": 105
        }
      ]
    },
    {
      "cell_type": "code",
      "metadata": {
        "id": "2w_xqAiocs8f",
        "colab_type": "code",
        "colab": {
          "base_uri": "https://localhost:8080/",
          "height": 34
        },
        "outputId": "056a7da9-6a01-4f54-9a1f-4adea43b6e46"
      },
      "source": [
        "rf_model2 = pipe_rf.fit(X_train2,y_train2)\n",
        "rf_pred2 = rf_model2.predict_proba(X_test2)\n",
        "rf_score2 = roc_auc_score(y_test2,rf_pred2[:, 1])\n",
        "rf_score2"
      ],
      "execution_count": null,
      "outputs": [
        {
          "output_type": "execute_result",
          "data": {
            "text/plain": [
              "0.8430265691186964"
            ]
          },
          "metadata": {
            "tags": []
          },
          "execution_count": 106
        }
      ]
    },
    {
      "cell_type": "markdown",
      "metadata": {
        "id": "VQPp3H57cOqI",
        "colab_type": "text"
      },
      "source": [
        "LightGBM"
      ]
    },
    {
      "cell_type": "code",
      "metadata": {
        "id": "QunEeVUtcFqg",
        "colab_type": "code",
        "colab": {
          "base_uri": "https://localhost:8080/",
          "height": 34
        },
        "outputId": "9751df8b-858d-485f-e8ca-4bf8b99552a3"
      },
      "source": [
        "lg_model = pipe_lg.fit(X_train,y_train)\n",
        "lg_pred = lg_model.predict_proba(X_test)\n",
        "lg_score = roc_auc_score(y_test,lg_pred[:, 1])\n",
        "lg_score"
      ],
      "execution_count": null,
      "outputs": [
        {
          "output_type": "execute_result",
          "data": {
            "text/plain": [
              "0.83548705815057"
            ]
          },
          "metadata": {
            "tags": []
          },
          "execution_count": 107
        }
      ]
    },
    {
      "cell_type": "code",
      "metadata": {
        "id": "_h5rWN-OdKNH",
        "colab_type": "code",
        "colab": {
          "base_uri": "https://localhost:8080/",
          "height": 34
        },
        "outputId": "553f7c7e-9661-47e4-8603-7a81513acf43"
      },
      "source": [
        "lg_model2 = pipe_lg.fit(X_train2,y_train2)\n",
        "lg_pred2 = lg_model2.predict_proba(X_test2)\n",
        "lg_score2 = roc_auc_score(y_test2,lg_pred2[:, 1])\n",
        "lg_score2"
      ],
      "execution_count": null,
      "outputs": [
        {
          "output_type": "execute_result",
          "data": {
            "text/plain": [
              "0.8561206116208565"
            ]
          },
          "metadata": {
            "tags": []
          },
          "execution_count": 108
        }
      ]
    },
    {
      "cell_type": "markdown",
      "metadata": {
        "id": "tf5Z_GlfcgIO",
        "colab_type": "text"
      },
      "source": [
        "XGBoost"
      ]
    },
    {
      "cell_type": "code",
      "metadata": {
        "id": "zGt71_vKccdt",
        "colab_type": "code",
        "colab": {
          "base_uri": "https://localhost:8080/",
          "height": 34
        },
        "outputId": "a826b609-3afe-49fd-e214-6be344d5535c"
      },
      "source": [
        "xg_model = pipe_xg.fit(X_train,y_train)\n",
        "xg_pred = xg_model.predict_proba(X_test)\n",
        "xg_score = roc_auc_score(y_test,xg_pred[:, 1])\n",
        "xg_score"
      ],
      "execution_count": null,
      "outputs": [
        {
          "output_type": "execute_result",
          "data": {
            "text/plain": [
              "0.8380513309573644"
            ]
          },
          "metadata": {
            "tags": []
          },
          "execution_count": 127
        }
      ]
    },
    {
      "cell_type": "code",
      "metadata": {
        "id": "zlbPJ95KcoDo",
        "colab_type": "code",
        "colab": {
          "base_uri": "https://localhost:8080/",
          "height": 34
        },
        "outputId": "6892f6e9-d8d5-4106-a07e-96ea8563f8b4"
      },
      "source": [
        "xg_model2 = pipe_xg.fit(X_train2,y_train2)\n",
        "xg_pred2 = xg_model2.predict_proba(X_test2)\n",
        "xg_score2 = roc_auc_score(y_test2,xg_pred2[:, 1])\n",
        "xg_score2"
      ],
      "execution_count": null,
      "outputs": [
        {
          "output_type": "execute_result",
          "data": {
            "text/plain": [
              "0.8568123994572826"
            ]
          },
          "metadata": {
            "tags": []
          },
          "execution_count": 134
        }
      ]
    },
    {
      "cell_type": "markdown",
      "metadata": {
        "id": "HGulcMsndmDf",
        "colab_type": "text"
      },
      "source": [
        "En ambas predicciones el modelo XGBoost con sus parametros por default fue mejor. Ahora haremos tuneo o modificación de los hiperparametros."
      ]
    },
    {
      "cell_type": "markdown",
      "metadata": {
        "id": "xyn2awSgkcwz",
        "colab_type": "text"
      },
      "source": [
        "Predict"
      ]
    },
    {
      "cell_type": "code",
      "metadata": {
        "id": "nhlzJVl3kcIR",
        "colab_type": "code",
        "colab": {}
      },
      "source": [
        "test = test_features.drop(['respondent_id','employment_industry','employment_occupation','health_insurance'], axis = 1)"
      ],
      "execution_count": null,
      "outputs": []
    },
    {
      "cell_type": "code",
      "metadata": {
        "id": "6zbjl-r5pAQZ",
        "colab_type": "code",
        "colab": {}
      },
      "source": [
        "submission = pd.read_csv('/content/submission_format.csv')"
      ],
      "execution_count": null,
      "outputs": []
    },
    {
      "cell_type": "code",
      "metadata": {
        "id": "kv4-kgJblWrd",
        "colab_type": "code",
        "colab": {}
      },
      "source": [
        "h1n1 = xg_model.predict_proba(test)"
      ],
      "execution_count": null,
      "outputs": []
    },
    {
      "cell_type": "code",
      "metadata": {
        "id": "FCC0V2IVmN2C",
        "colab_type": "code",
        "colab": {
          "base_uri": "https://localhost:8080/",
          "height": 51
        },
        "outputId": "20ca4d4f-f611-40ba-d49f-15a95ad020ef"
      },
      "source": [
        "h1n1[:, 1]"
      ],
      "execution_count": null,
      "outputs": [
        {
          "output_type": "execute_result",
          "data": {
            "text/plain": [
              "array([0.12156226, 0.04580515, 0.43874004, ..., 0.13092348, 0.06804745,\n",
              "       0.5391636 ], dtype=float32)"
            ]
          },
          "metadata": {
            "tags": []
          },
          "execution_count": 131
        }
      ]
    },
    {
      "cell_type": "code",
      "metadata": {
        "id": "145TdUkZpcfA",
        "colab_type": "code",
        "colab": {}
      },
      "source": [
        "submission['h1n1_vaccine'] = h1n1[:, 1]"
      ],
      "execution_count": null,
      "outputs": []
    },
    {
      "cell_type": "code",
      "metadata": {
        "id": "RZ-T5t31pd1L",
        "colab_type": "code",
        "colab": {}
      },
      "source": [
        "seasonal = xg_model2.predict_proba(test)"
      ],
      "execution_count": null,
      "outputs": []
    },
    {
      "cell_type": "code",
      "metadata": {
        "id": "zjCE0WSJppE9",
        "colab_type": "code",
        "colab": {
          "base_uri": "https://localhost:8080/",
          "height": 51
        },
        "outputId": "74139ef2-522b-470a-84d4-5dc5b49df3f4"
      },
      "source": [
        "seasonal[:, 1]"
      ],
      "execution_count": null,
      "outputs": [
        {
          "output_type": "execute_result",
          "data": {
            "text/plain": [
              "array([0.23135146, 0.0540988 , 0.7575805 , ..., 0.18539461, 0.35388353,\n",
              "       0.61423296], dtype=float32)"
            ]
          },
          "metadata": {
            "tags": []
          },
          "execution_count": 136
        }
      ]
    },
    {
      "cell_type": "code",
      "metadata": {
        "id": "scrURk8Uqogp",
        "colab_type": "code",
        "colab": {}
      },
      "source": [
        "submission['seasonal_vaccine'] = seasonal[:, 1]"
      ],
      "execution_count": null,
      "outputs": []
    },
    {
      "cell_type": "code",
      "metadata": {
        "id": "51E29jxGqunr",
        "colab_type": "code",
        "colab": {
          "base_uri": "https://localhost:8080/",
          "height": 419
        },
        "outputId": "9846ef67-1ac1-404c-e836-766f09be2fa5"
      },
      "source": [
        "submission"
      ],
      "execution_count": null,
      "outputs": [
        {
          "output_type": "execute_result",
          "data": {
            "text/html": [
              "<div>\n",
              "<style scoped>\n",
              "    .dataframe tbody tr th:only-of-type {\n",
              "        vertical-align: middle;\n",
              "    }\n",
              "\n",
              "    .dataframe tbody tr th {\n",
              "        vertical-align: top;\n",
              "    }\n",
              "\n",
              "    .dataframe thead th {\n",
              "        text-align: right;\n",
              "    }\n",
              "</style>\n",
              "<table border=\"1\" class=\"dataframe\">\n",
              "  <thead>\n",
              "    <tr style=\"text-align: right;\">\n",
              "      <th></th>\n",
              "      <th>respondent_id</th>\n",
              "      <th>h1n1_vaccine</th>\n",
              "      <th>seasonal_vaccine</th>\n",
              "    </tr>\n",
              "  </thead>\n",
              "  <tbody>\n",
              "    <tr>\n",
              "      <th>0</th>\n",
              "      <td>26707</td>\n",
              "      <td>0.121562</td>\n",
              "      <td>0.231351</td>\n",
              "    </tr>\n",
              "    <tr>\n",
              "      <th>1</th>\n",
              "      <td>26708</td>\n",
              "      <td>0.045805</td>\n",
              "      <td>0.054099</td>\n",
              "    </tr>\n",
              "    <tr>\n",
              "      <th>2</th>\n",
              "      <td>26709</td>\n",
              "      <td>0.438740</td>\n",
              "      <td>0.757581</td>\n",
              "    </tr>\n",
              "    <tr>\n",
              "      <th>3</th>\n",
              "      <td>26710</td>\n",
              "      <td>0.526917</td>\n",
              "      <td>0.819088</td>\n",
              "    </tr>\n",
              "    <tr>\n",
              "      <th>4</th>\n",
              "      <td>26711</td>\n",
              "      <td>0.233618</td>\n",
              "      <td>0.515052</td>\n",
              "    </tr>\n",
              "    <tr>\n",
              "      <th>...</th>\n",
              "      <td>...</td>\n",
              "      <td>...</td>\n",
              "      <td>...</td>\n",
              "    </tr>\n",
              "    <tr>\n",
              "      <th>26703</th>\n",
              "      <td>53410</td>\n",
              "      <td>0.377419</td>\n",
              "      <td>0.551616</td>\n",
              "    </tr>\n",
              "    <tr>\n",
              "      <th>26704</th>\n",
              "      <td>53411</td>\n",
              "      <td>0.129752</td>\n",
              "      <td>0.353451</td>\n",
              "    </tr>\n",
              "    <tr>\n",
              "      <th>26705</th>\n",
              "      <td>53412</td>\n",
              "      <td>0.130923</td>\n",
              "      <td>0.185395</td>\n",
              "    </tr>\n",
              "    <tr>\n",
              "      <th>26706</th>\n",
              "      <td>53413</td>\n",
              "      <td>0.068047</td>\n",
              "      <td>0.353884</td>\n",
              "    </tr>\n",
              "    <tr>\n",
              "      <th>26707</th>\n",
              "      <td>53414</td>\n",
              "      <td>0.539164</td>\n",
              "      <td>0.614233</td>\n",
              "    </tr>\n",
              "  </tbody>\n",
              "</table>\n",
              "<p>26708 rows × 3 columns</p>\n",
              "</div>"
            ],
            "text/plain": [
              "       respondent_id  h1n1_vaccine  seasonal_vaccine\n",
              "0              26707      0.121562          0.231351\n",
              "1              26708      0.045805          0.054099\n",
              "2              26709      0.438740          0.757581\n",
              "3              26710      0.526917          0.819088\n",
              "4              26711      0.233618          0.515052\n",
              "...              ...           ...               ...\n",
              "26703          53410      0.377419          0.551616\n",
              "26704          53411      0.129752          0.353451\n",
              "26705          53412      0.130923          0.185395\n",
              "26706          53413      0.068047          0.353884\n",
              "26707          53414      0.539164          0.614233\n",
              "\n",
              "[26708 rows x 3 columns]"
            ]
          },
          "metadata": {
            "tags": []
          },
          "execution_count": 138
        }
      ]
    },
    {
      "cell_type": "code",
      "metadata": {
        "id": "O9o2FO5Uqv-8",
        "colab_type": "code",
        "colab": {}
      },
      "source": [
        "submission.to_csv('submission1.csv',index = False)"
      ],
      "execution_count": null,
      "outputs": []
    },
    {
      "cell_type": "code",
      "metadata": {
        "id": "I50IiCNSq9Mq",
        "colab_type": "code",
        "colab": {}
      },
      "source": [
        ""
      ],
      "execution_count": null,
      "outputs": []
    }
  ]
}